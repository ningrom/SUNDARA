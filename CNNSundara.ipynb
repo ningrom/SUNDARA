{
  "nbformat": 4,
  "nbformat_minor": 0,
  "metadata": {
    "colab": {
      "provenance": []
    },
    "kernelspec": {
      "name": "python3",
      "display_name": "Python 3"
    },
    "language_info": {
      "name": "python"
    }
  },
  "cells": [
    {
      "cell_type": "code",
      "execution_count": 3,
      "metadata": {
        "id": "ZqcqTfW5WhL9"
      },
      "outputs": [],
      "source": [
        "import zipfile\n",
        "import os\n",
        "import shutil\n",
        "import tensorflow as tf\n",
        "from tensorflow.keras.preprocessing.image import ImageDataGenerator\n",
        "from tensorflow.keras.models import Sequential\n",
        "from tensorflow.keras.layers import Conv2D, MaxPooling2D, Flatten, Dense, Dropout"
      ]
    },
    {
      "cell_type": "code",
      "source": [
        "!git clone https://github.com/ningrom/SUNDARA.git"
      ],
      "metadata": {
        "id": "lq7LYPrkh9es",
        "colab": {
          "base_uri": "https://localhost:8080/"
        },
        "outputId": "e77140f5-1b91-479d-f9f4-55d06fb59313"
      },
      "execution_count": 8,
      "outputs": [
        {
          "output_type": "stream",
          "name": "stdout",
          "text": [
            "fatal: destination path 'SUNDARA' already exists and is not an empty directory.\n"
          ]
        }
      ]
    },
    {
      "cell_type": "code",
      "source": [
        "!ls"
      ],
      "metadata": {
        "colab": {
          "base_uri": "https://localhost:8080/"
        },
        "id": "0538njYKBQkS",
        "outputId": "ba55420d-1c98-43cc-b3d5-01bda275cdb9"
      },
      "execution_count": 12,
      "outputs": [
        {
          "output_type": "stream",
          "name": "stdout",
          "text": [
            "sample_data  SUNDARA\n"
          ]
        }
      ]
    },
    {
      "cell_type": "code",
      "source": [
        "training_dir = os.path.join('SUNDARA','Dataset')\n",
        "validation_dir = 'validation'"
      ],
      "metadata": {
        "id": "Ysks9Lt3nbJC"
      },
      "execution_count": 6,
      "outputs": []
    },
    {
      "cell_type": "code",
      "source": [
        "os.mkdir(validation_dir)"
      ],
      "metadata": {
        "colab": {
          "base_uri": "https://localhost:8080/",
          "height": 176
        },
        "id": "UN_mO1musRBb",
        "outputId": "f290adf0-17c4-4f75-8666-e92d3e650608"
      },
      "execution_count": 9,
      "outputs": [
        {
          "output_type": "error",
          "ename": "FileExistsError",
          "evalue": "ignored",
          "traceback": [
            "\u001b[0;31m---------------------------------------------------------------------------\u001b[0m",
            "\u001b[0;31mFileExistsError\u001b[0m                           Traceback (most recent call last)",
            "\u001b[0;32m<ipython-input-9-af2151ee1143>\u001b[0m in \u001b[0;36m<cell line: 1>\u001b[0;34m()\u001b[0m\n\u001b[0;32m----> 1\u001b[0;31m \u001b[0mos\u001b[0m\u001b[0;34m.\u001b[0m\u001b[0mmkdir\u001b[0m\u001b[0;34m(\u001b[0m\u001b[0mvalidation_dir\u001b[0m\u001b[0;34m)\u001b[0m\u001b[0;34m\u001b[0m\u001b[0;34m\u001b[0m\u001b[0m\n\u001b[0m",
            "\u001b[0;31mFileExistsError\u001b[0m: [Errno 17] File exists: 'validation'"
          ]
        }
      ]
    },
    {
      "cell_type": "code",
      "source": [
        "validation_dataset_portion = 0.33"
      ],
      "metadata": {
        "id": "ihYxYlaiFTUr"
      },
      "execution_count": 10,
      "outputs": []
    },
    {
      "cell_type": "code",
      "source": [
        "for class_dir_name in os.listdir(training_dir):\n",
        "   class_dir_path = os.path.join(training_dir, class_dir_name)\n",
        "   train_dataset_num = len(os.listdir(class_dir_path))\n",
        "   val_dataset_num = validation_dataset_portion * train_dataset_num\n",
        "   val_class_dir_path = os.path.join(validation_dir, class_dir_name)\n",
        "   os.mkdir(val_class_dir_path)\n",
        "   counter = 0\n",
        "   for filename in os.listdir(class_dir_path) :\n",
        "    filepath = os.path.join(class_dir_path, filename)\n",
        "    if counter < val_dataset_num:\n",
        "      destination = os.path.join(val_class_dir_path, filename)\n",
        "      shutil.move(filepath, destination)\n",
        "      counter += 1"
      ],
      "metadata": {
        "id": "gwiukFHsFeAp"
      },
      "execution_count": 17,
      "outputs": []
    },
    {
      "cell_type": "code",
      "source": [
        "training = ImageDataGenerator (\n",
        "    rescale = 1./255,\n",
        "    rotation_range = 50,\n",
        "    width_shift_range=0.2,\n",
        "    height_shift_range=0.2,\n",
        "    zoom_range=0.3,\n",
        "    brightness_range=[0.2, 1.5],\n",
        "    shear_range=20,\n",
        "    fill_mode='nearest'\n",
        ")\n",
        "\n",
        "validation = ImageDataGenerator (\n",
        "    rescale = 1./255,\n",
        "    rotation_range = 50,\n",
        "    width_shift_range=0.2,\n",
        "    height_shift_range=0.2,\n",
        "    zoom_range=0.3,\n",
        "    brightness_range=[0.2, 1.5],\n",
        "    shear_range=20,\n",
        "    fill_mode='nearest'\n",
        ")"
      ],
      "metadata": {
        "id": "3IKdeBjEGHZP"
      },
      "execution_count": 11,
      "outputs": []
    },
    {
      "cell_type": "code",
      "source": [
        "training_generator = training.flow_from_directory (\n",
        "    training_dir,\n",
        "    target_size = (150, 150),\n",
        "    batch_size = 5,\n",
        "    class_mode = 'categorical',\n",
        "    shuffle = True\n",
        ")\n",
        "\n",
        "validation_generator = validation.flow_from_directory (\n",
        "    validation_dir,\n",
        "    target_size = (150, 150),\n",
        "    batch_size = 5,\n",
        "    class_mode = 'categorical',\n",
        "    shuffle = True\n",
        ")"
      ],
      "metadata": {
        "colab": {
          "base_uri": "https://localhost:8080/"
        },
        "id": "lQNeer11J5eB",
        "outputId": "248dec37-26ed-4327-d72a-a2b7b3caaafb"
      },
      "execution_count": 12,
      "outputs": [
        {
          "output_type": "stream",
          "name": "stdout",
          "text": [
            "Found 748 images belonging to 77 classes.\n",
            "Found 405 images belonging to 77 classes.\n"
          ]
        }
      ]
    },
    {
      "cell_type": "code",
      "source": [
        "training_generator.class_indices"
      ],
      "metadata": {
        "colab": {
          "base_uri": "https://localhost:8080/"
        },
        "id": "UIhODrUlKfMB",
        "outputId": "58f36c09-beac-45a7-80a8-30199d649967"
      },
      "execution_count": 37,
      "outputs": [
        {
          "output_type": "execute_result",
          "data": {
            "text/plain": [
              "{'0': 0,\n",
              " '1': 1,\n",
              " '2': 2,\n",
              " '3': 3,\n",
              " '4': 4,\n",
              " '5': 5,\n",
              " '6': 6,\n",
              " '7': 7,\n",
              " '8': 8,\n",
              " '9': 9,\n",
              " 'SA': 10,\n",
              " 'ba': 11,\n",
              " 'be': 12,\n",
              " 'beu': 13,\n",
              " 'bi': 14,\n",
              " 'bo': 15,\n",
              " 'bu': 16,\n",
              " 'bé': 17,\n",
              " 'ca': 18,\n",
              " 'da': 19,\n",
              " 'ga': 20,\n",
              " 'ge': 21,\n",
              " 'geu': 22,\n",
              " 'gi': 23,\n",
              " 'go': 24,\n",
              " 'gu': 25,\n",
              " 'gé': 26,\n",
              " 'ha': 27,\n",
              " 'ja': 28,\n",
              " 'ka': 29,\n",
              " 'ke': 30,\n",
              " 'ke_': 31,\n",
              " 'keu': 32,\n",
              " 'ki': 33,\n",
              " 'ko': 34,\n",
              " 'ku': 35,\n",
              " 'la': 36,\n",
              " 'ma': 37,\n",
              " 'me': 38,\n",
              " 'meu': 39,\n",
              " 'mi': 40,\n",
              " 'mo': 41,\n",
              " 'mu': 42,\n",
              " 'mé': 43,\n",
              " 'na': 44,\n",
              " 'ne': 45,\n",
              " 'neu': 46,\n",
              " 'nga': 47,\n",
              " 'ngé': 48,\n",
              " 'ni': 49,\n",
              " 'no': 50,\n",
              " 'nu': 51,\n",
              " 'nya': 52,\n",
              " 'né': 53,\n",
              " 'pa': 54,\n",
              " 'pe': 55,\n",
              " 'peu': 56,\n",
              " 'pi': 57,\n",
              " 'po': 58,\n",
              " 'pu': 59,\n",
              " 'pé': 60,\n",
              " 'ra': 61,\n",
              " 're': 62,\n",
              " 'reu': 63,\n",
              " 'ri': 64,\n",
              " 'ro': 65,\n",
              " 'ru': 66,\n",
              " 'ré': 67,\n",
              " 'ta': 68,\n",
              " 'wa': 69,\n",
              " 'ya': 70,\n",
              " 'ye': 71,\n",
              " 'yeu': 72,\n",
              " 'yi': 73,\n",
              " 'yo': 74,\n",
              " 'yu': 75,\n",
              " 'yé': 76}"
            ]
          },
          "metadata": {},
          "execution_count": 37
        }
      ]
    },
    {
      "cell_type": "code",
      "source": [
        "model = Sequential([\n",
        "    Conv2D(16, (3, 3), activation='relu', input_shape=(150, 150, 3)),\n",
        "    MaxPooling2D(2, 2),\n",
        "    Conv2D(32, (3, 3), activation='relu'),\n",
        "    MaxPooling2D(2, 2),\n",
        "    Conv2D(64, (3, 3), activation='relu'),\n",
        "    MaxPooling2D(2, 2),\n",
        "    Flatten(),\n",
        "    Dense(128, activation='relu'),\n",
        "    Dropout(0.5),\n",
        "    Dense(77, activation='softmax')\n",
        "])"
      ],
      "metadata": {
        "id": "O4Ju93VTKyB_"
      },
      "execution_count": 13,
      "outputs": []
    },
    {
      "cell_type": "code",
      "source": [
        "model.compile (\n",
        "    loss = 'categorical_crossentropy',\n",
        "    metrics = ['acc'],\n",
        "    optimizer = 'adam'\n",
        ")"
      ],
      "metadata": {
        "id": "Wb-wmNlPLHh7"
      },
      "execution_count": 14,
      "outputs": []
    },
    {
      "cell_type": "code",
      "source": [
        "model.fit(\n",
        "    training_generator,\n",
        "    validation_data = validation_generator,\n",
        "    epochs = 10\n",
        "\n",
        ")"
      ],
      "metadata": {
        "colab": {
          "base_uri": "https://localhost:8080/"
        },
        "id": "eLa3fZDFLJ9X",
        "outputId": "87d5ca0f-41c6-4ccc-c7ab-f2f4b0efa9e8"
      },
      "execution_count": 17,
      "outputs": [
        {
          "output_type": "stream",
          "name": "stdout",
          "text": [
            "Epoch 1/10\n",
            "150/150 [==============================] - 33s 220ms/step - loss: 4.3202 - acc: 0.0107 - val_loss: 4.5917 - val_acc: 0.0123\n",
            "Epoch 2/10\n",
            "150/150 [==============================] - 32s 215ms/step - loss: 4.3218 - acc: 0.0080 - val_loss: 4.5943 - val_acc: 0.0123\n",
            "Epoch 3/10\n",
            "150/150 [==============================] - 33s 219ms/step - loss: 4.3203 - acc: 0.0080 - val_loss: 4.6426 - val_acc: 0.0123\n",
            "Epoch 4/10\n",
            "150/150 [==============================] - 30s 197ms/step - loss: 4.3207 - acc: 0.0094 - val_loss: 4.6078 - val_acc: 0.0123\n",
            "Epoch 5/10\n",
            "150/150 [==============================] - 33s 217ms/step - loss: 4.3216 - acc: 0.0147 - val_loss: 4.6633 - val_acc: 0.0123\n",
            "Epoch 6/10\n",
            "150/150 [==============================] - 32s 211ms/step - loss: 4.3242 - acc: 0.0094 - val_loss: 4.6083 - val_acc: 0.0123\n",
            "Epoch 7/10\n",
            "150/150 [==============================] - 33s 217ms/step - loss: 4.3187 - acc: 0.0134 - val_loss: 4.6094 - val_acc: 0.0148\n",
            "Epoch 8/10\n",
            "150/150 [==============================] - 32s 211ms/step - loss: 4.3251 - acc: 0.0067 - val_loss: 4.6154 - val_acc: 0.0123\n",
            "Epoch 9/10\n",
            "150/150 [==============================] - 34s 224ms/step - loss: 4.3070 - acc: 0.0094 - val_loss: 4.5506 - val_acc: 0.0198\n",
            "Epoch 10/10\n",
            "150/150 [==============================] - 34s 227ms/step - loss: 4.2641 - acc: 0.0174 - val_loss: 4.5801 - val_acc: 0.0247\n"
          ]
        },
        {
          "output_type": "execute_result",
          "data": {
            "text/plain": [
              "<keras.src.callbacks.History at 0x786b00c0ae00>"
            ]
          },
          "metadata": {},
          "execution_count": 17
        }
      ]
    },
    {
      "cell_type": "code",
      "source": [
        "model.save('model.h5')"
      ],
      "metadata": {
        "colab": {
          "base_uri": "https://localhost:8080/"
        },
        "id": "Csx4-B_ILXb4",
        "outputId": "58ca5a5c-d323-44ad-a447-3a332173a798"
      },
      "execution_count": 22,
      "outputs": [
        {
          "output_type": "stream",
          "name": "stderr",
          "text": [
            "/usr/local/lib/python3.10/dist-packages/keras/src/engine/training.py:3103: UserWarning: You are saving your model as an HDF5 file via `model.save()`. This file format is considered legacy. We recommend using instead the native Keras format, e.g. `model.save('my_model.keras')`.\n",
            "  saving_api.save_model(\n"
          ]
        }
      ]
    },
    {
      "cell_type": "code",
      "source": [],
      "metadata": {
        "id": "QmUDHc-qk3oc"
      },
      "execution_count": null,
      "outputs": []
    }
  ]
}